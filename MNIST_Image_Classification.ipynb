{
  "nbformat": 4,
  "nbformat_minor": 0,
  "metadata": {
    "colab": {
      "name": "MNIST_Image_Classification.ipynb",
      "provenance": [],
      "authorship_tag": "ABX9TyP0FtP1Uhfon5sk2VPabyNB",
      "include_colab_link": true
    },
    "kernelspec": {
      "name": "python3",
      "display_name": "Python 3"
    },
    "language_info": {
      "name": "python"
    }
  },
  "cells": [
    {
      "cell_type": "markdown",
      "metadata": {
        "id": "view-in-github",
        "colab_type": "text"
      },
      "source": [
        "<a href=\"https://colab.research.google.com/github/ayush714/ayush714/blob/main/MNIST_Image_Classification.ipynb\" target=\"_parent\"><img src=\"https://colab.research.google.com/assets/colab-badge.svg\" alt=\"Open In Colab\"/></a>"
      ]
    },
    {
      "cell_type": "code",
      "metadata": {
        "id": "NlEPCTKkXqQr"
      },
      "source": [
        "import tensorflow as tf"
      ],
      "execution_count": 1,
      "outputs": []
    },
    {
      "cell_type": "code",
      "metadata": {
        "id": "bAo_ApezXq1n"
      },
      "source": [
        "def train_mnist():\n",
        "\n",
        "    mnist = tf.keras.datasets.mnist\n",
        "\n",
        "    (x_train, y_train),(x_test, y_test) = mnist.load_data()\n",
        "    x_train, x_test = x_train / 255.0, x_test / 255.0\n",
        "\n",
        "    model = tf.keras.models.Sequential([\n",
        "        tf.keras.layers.Flatten(input_shape=(28, 28)),\n",
        "        tf.keras.layers.Dense(512, activation=tf.nn.relu),\n",
        "        tf.keras.layers.Dense(10, activation=tf.nn.softmax)\n",
        "    ])\n",
        "\n",
        "    model.compile(optimizer='adam',\n",
        "                  loss='sparse_categorical_crossentropy',\n",
        "                  metrics=['accuracy'])\n",
        "    \n",
        "    history = model.fit(x_train, y_train , epochs=9                     \n",
        "    )\n",
        "    return history.epoch, history.history"
      ],
      "execution_count": 21,
      "outputs": []
    },
    {
      "cell_type": "code",
      "metadata": {
        "colab": {
          "base_uri": "https://localhost:8080/"
        },
        "id": "RDHPNpT7X5ZV",
        "outputId": "f65ef392-c8d7-4c73-ee1b-70ca49ac780b"
      },
      "source": [
        "train_mnist()"
      ],
      "execution_count": 22,
      "outputs": [
        {
          "output_type": "stream",
          "text": [
            "Epoch 1/9\n",
            "1875/1875 [==============================] - 8s 4ms/step - loss: 0.3399 - accuracy: 0.9032\n",
            "Epoch 2/9\n",
            "1875/1875 [==============================] - 8s 4ms/step - loss: 0.0843 - accuracy: 0.9743\n",
            "Epoch 3/9\n",
            "1875/1875 [==============================] - 8s 4ms/step - loss: 0.0505 - accuracy: 0.9839\n",
            "Epoch 4/9\n",
            "1875/1875 [==============================] - 8s 4ms/step - loss: 0.0336 - accuracy: 0.9891\n",
            "Epoch 5/9\n",
            "1875/1875 [==============================] - 8s 4ms/step - loss: 0.0267 - accuracy: 0.9914\n",
            "Epoch 6/9\n",
            "1875/1875 [==============================] - 8s 4ms/step - loss: 0.0180 - accuracy: 0.9946\n",
            "Epoch 7/9\n",
            "1875/1875 [==============================] - 7s 4ms/step - loss: 0.0169 - accuracy: 0.9944\n",
            "Epoch 8/9\n",
            "1875/1875 [==============================] - 7s 4ms/step - loss: 0.0122 - accuracy: 0.9963\n",
            "Epoch 9/9\n",
            "1875/1875 [==============================] - 7s 4ms/step - loss: 0.0092 - accuracy: 0.9970\n"
          ],
          "name": "stdout"
        },
        {
          "output_type": "execute_result",
          "data": {
            "text/plain": [
              "([0, 1, 2, 3, 4, 5, 6, 7, 8],\n",
              " {'accuracy': [0.9421833157539368,\n",
              "   0.9754666686058044,\n",
              "   0.9837499856948853,\n",
              "   0.9888666868209839,\n",
              "   0.9905833601951599,\n",
              "   0.9928333163261414,\n",
              "   0.9946666955947876,\n",
              "   0.9950833320617676,\n",
              "   0.9961833357810974],\n",
              "  'loss': [0.20054566860198975,\n",
              "   0.07993296533823013,\n",
              "   0.05216950923204422,\n",
              "   0.03533921390771866,\n",
              "   0.02882891148328781,\n",
              "   0.021333754062652588,\n",
              "   0.016499141231179237,\n",
              "   0.015242858789861202,\n",
              "   0.011731431819498539]})"
            ]
          },
          "metadata": {
            "tags": []
          },
          "execution_count": 22
        }
      ]
    },
    {
      "cell_type": "code",
      "metadata": {
        "id": "ydZ9Kr1kX6d0"
      },
      "source": [
        ""
      ],
      "execution_count": null,
      "outputs": []
    }
  ]
}